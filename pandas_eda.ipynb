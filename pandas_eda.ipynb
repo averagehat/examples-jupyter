{
 "cells": [
  {
   "cell_type": "markdown",
   "metadata": {},
   "source": [
    "# Introduction to Palmer Penguins\n",
    "## A Vignette About the Data"
   ]
  },
  {
   "cell_type": "markdown",
   "metadata": {},
   "source": [
    "The palmer penguins dataset comes from a paper about antarctic penguins.\n",
    "The data was then packaged up into an R package for ease of use as a teaching example,\n",
    "and later ported to Python. This data is colloquially referred to as the \"palmer penguins\" dataset. \n",
    "\n",
    "Here we use the pandas package to analyze and plotnine to visualize the data. \n",
    "\n",
    "# Setup"
   ]
  },
  {
   "cell_type": "code",
   "execution_count": null,
   "metadata": {},
   "outputs": [],
   "source": [
    "#| label: setup\n",
    "\n",
    "import pandas as pd\n",
    "import plotnine as p9\n",
    "\n",
    "from plotnine import (aes, coord_flip, facet_wrap, geom_bar, geom_histogram,\n",
    "                      geom_jitter, geom_point, ggplot, theme_minimal)"
   ]
  },
  {
   "cell_type": "markdown",
   "metadata": {},
   "source": [
    "# Load Data"
   ]
  },
  {
   "cell_type": "code",
   "execution_count": null,
   "metadata": {},
   "outputs": [],
   "source": [
    "penguins = pd.read_csv(\"data/penguins_clean.csv\")\n",
    "penguins = penguins.dropna()"
   ]
  },
  {
   "cell_type": "code",
   "execution_count": null,
   "metadata": {},
   "outputs": [],
   "source": [
    "penguins.head()"
   ]
  },
  {
   "cell_type": "code",
   "execution_count": null,
   "metadata": {},
   "outputs": [],
   "source": [
    "penguins.info()"
   ]
  },
  {
   "cell_type": "code",
   "execution_count": null,
   "metadata": {},
   "outputs": [],
   "source": [
    "penguins.select_dtypes('object')"
   ]
  },
  {
   "cell_type": "markdown",
   "metadata": {},
   "source": [
    "# Summarize Data"
   ]
  },
  {
   "cell_type": "code",
   "execution_count": null,
   "metadata": {},
   "outputs": [],
   "source": [
    "(\n",
    "  penguins\n",
    "  .groupby(['species', 'island'])\n",
    "  ['species']\n",
    "  .agg('count')\n",
    ")"
   ]
  },
  {
   "cell_type": "code",
   "execution_count": null,
   "metadata": {},
   "outputs": [],
   "source": [
    "pd.crosstab(\n",
    "  penguins['species'],\n",
    "  penguins['island']\n",
    ")"
   ]
  },
  {
   "cell_type": "markdown",
   "metadata": {},
   "source": [
    "# Data Visualization"
   ]
  },
  {
   "cell_type": "code",
   "execution_count": null,
   "metadata": {},
   "outputs": [],
   "source": [
    "(\n",
    "  ggplot(penguins, aes(x='island', fill='species')) +\n",
    "  geom_bar(alpha = 0.8) +\n",
    "  theme_minimal() +\n",
    "  facet_wrap('species', ncol = 1) +\n",
    "  coord_flip()\n",
    ")"
   ]
  },
  {
   "cell_type": "code",
   "execution_count": null,
   "metadata": {},
   "outputs": [],
   "source": [
    "(\n",
    "  ggplot(penguins, aes(x='sex', fill='species')) +\n",
    "  geom_bar(alpha = 0.8) +\n",
    "  theme_minimal() +\n",
    "  facet_wrap('species', ncol = 1) +\n",
    "  coord_flip()\n",
    ")"
   ]
  },
  {
   "cell_type": "code",
   "execution_count": null,
   "metadata": {},
   "outputs": [],
   "source": [
    "penguins.filter(regex='_mm', axis='columns')"
   ]
  },
  {
   "cell_type": "code",
   "execution_count": null,
   "metadata": {},
   "outputs": [],
   "source": [
    "(\n",
    "  ggplot(penguins, aes(x=\"flipper_length_mm\", y=\"body_mass_g\")) +\n",
    "  geom_point(aes(color=\"species\", shape=\"species\"), size=2) \n",
    ")"
   ]
  },
  {
   "cell_type": "code",
   "execution_count": null,
   "metadata": {},
   "outputs": [],
   "source": [
    "(\n",
    "  ggplot(penguins, aes(x=\"flipper_length_mm\", y=\"bill_depth_mm\")) +\n",
    "  geom_point(aes(color=\"species\", shape=\"species\"), size=2)\n",
    ")"
   ]
  },
  {
   "cell_type": "code",
   "execution_count": null,
   "metadata": {},
   "outputs": [],
   "source": [
    "(\n",
    "  ggplot(penguins, aes(x = \"flipper_length_mm\", y = \"body_mass_g\")) +\n",
    "  geom_point(aes(color = \"sex\"), size = 2) +\n",
    "  facet_wrap(\"species\")\n",
    ")"
   ]
  },
  {
   "cell_type": "code",
   "execution_count": null,
   "metadata": {},
   "outputs": [],
   "source": [
    "(\n",
    "  ggplot(penguins, aes(x=\"species\", y=\"bill_length_mm\")) +\n",
    "  geom_jitter(aes(color=\"species\"), width=0.1, alpha=0.7)\n",
    ")"
   ]
  },
  {
   "cell_type": "code",
   "execution_count": null,
   "metadata": {},
   "outputs": [],
   "source": [
    "(\n",
    "  ggplot(penguins, aes(x=\"flipper_length_mm\")) +\n",
    "  geom_histogram(aes(fill=\"species\"), bins=30, alpha=0.5, position=\"identity\")\n",
    ")"
   ]
  },
  {
   "cell_type": "markdown",
   "metadata": {},
   "source": [
    "# Correlations"
   ]
  },
  {
   "cell_type": "code",
   "execution_count": null,
   "metadata": {
    "scrolled": false
   },
   "outputs": [],
   "source": [
    "corr = penguins.select_dtypes('number').corr()\n",
    "\n",
    "corr.style.background_gradient(cmap='coolwarm').format(precision=2)"
   ]
  },
  {
   "cell_type": "markdown",
   "metadata": {},
   "source": [
    "# References"
   ]
  },
  {
   "cell_type": "markdown",
   "metadata": {},
   "source": [
    "* Gorman, Tony D. AND Fraser, Kristen B. AND Williams. 2014. “Ecological Sexual Dimorphism and Environmental Variability Within a Community of Antarctic Penguins (Genus Pygoscelis).” PLOS ONE 9 (3): 1–14. https://doi.org/10.1371/journal.pone.0090081.\n",
    "\n",
    "\n",
    "* Horst, Allison Marie, Alison Presmanes Hill, and Kristen B Gorman. 2020. Palmerpenguins: Palmer Archipelago (Antarctica) Penguin Data. https://doi.org/10.5281/zenodo.3960218.\n",
    "\n",
    "\n",
    "* Nakhaee, Muhammad Chenariyan. 2021. Palmerpenguins: Palmer Archipelago (Antarctica) Penguin Data. https://github.com/mcnakhaee/palmerpenguins."
   ]
  }
 ],
 "metadata": {
  "kernelspec": {
   "display_name": "Python 3.10.4 - rstudio",
   "language": "python",
   "name": "rstudio-user-3.10.4"
  },
  "language_info": {
   "codemirror_mode": {
    "name": "ipython",
    "version": 3
   },
   "file_extension": ".py",
   "mimetype": "text/x-python",
   "name": "python",
   "nbconvert_exporter": "python",
   "pygments_lexer": "ipython3",
   "version": "3.10.4"
  }
 },
 "nbformat": 4,
 "nbformat_minor": 4
}
